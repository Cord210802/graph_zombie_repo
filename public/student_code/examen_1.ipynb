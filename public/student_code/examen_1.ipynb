{
 "cells": [
  {
   "cell_type": "markdown",
   "metadata": {},
   "source": [
    "# Politica 1"
   ]
  },
  {
   "cell_type": "markdown",
   "metadata": {},
   "source": [
    "Esta política de evacuación (Política 1) implementa una estrategia de navegación básica que utiliza exclusivamente la información estructural de la ciudad, sin depender de ningún dato de proxy.\n",
    "\n",
    "# Estrategia principal\n",
    "\n",
    "La política funciona de la siguiente manera:\n",
    "\n",
    "1. Intenta encontrar un camino válido desde el nodo inicial hasta cada uno de los nodos de extracción disponibles.\n",
    "2. Para cada nodo de extracción, calcula el camino más corto usando el algoritmo de Dijkstra (implementado en NetworkX).\n",
    "3. Para cada camino encontrado, calcula su longitud real sumando los pesos de las aristas.\n",
    "4. Selecciona el camino con la menor longitud total entre todos los caminos válidos.\n",
    "5. Si no existe ningún camino hacia los puntos de extracción, la política devuelve solo el nodo inicial.\n",
    "\n",
    "Para la distribución de recursos, se implementa una estrategia equitativa:\n",
    "- Los recursos disponibles se dividen en partes iguales entre los tres tipos (explosivos, munición y trajes de radiación)\n",
    "- Si hay recursos restantes que no pueden dividirse equitativamente, se asignan de manera secuencial\n",
    "\n",
    "# Lógica detrás de la política\n",
    "\n",
    "Esta política representa la estrategia de \"Los Primeros Días\" donde:\n",
    "1. No hay información disponible sobre condiciones ambientales o amenazas específicas\n",
    "2. Las decisiones se basan únicamente en la estructura de la ciudad y las distancias\n",
    "3. Se busca el camino más corto posible, operando bajo la hipótesis de que rutas más cortas implican menor exposición a peligros\n",
    "\n",
    "La distribución equitativa de recursos refleja la incertidumbre inicial: sin información específica sobre los peligros, es prudente mantener un balance en los recursos para estar preparado ante cualquier escenario.\n",
    "\n",
    "Esta política establece una línea base simple pero robusta para la evacuación cuando se opera completamente a ciegas, confiando únicamente en el mapa básico de la ciudad."
   ]
  },
  {
   "cell_type": "markdown",
   "metadata": {},
   "source": [
    "# Politica 2"
   ]
  },
  {
   "cell_type": "markdown",
   "metadata": {},
   "source": [
    "Esta política de evacuación (Política 2) implementa una estrategia que utiliza los datos de proxies para encontrar un camino seguro hacia los puntos de extracción, enfocándose específicamente en minimizar el gradiente de peligro.\n",
    "\n",
    "# Estrategia principal\n",
    "\n",
    "La política funciona de la siguiente manera:\n",
    "\n",
    "1. Primero verifica cuáles puntos de extracción son alcanzables desde el nodo inicial.\n",
    "2. Si no se puede llegar a ningún punto de extracción, la política devuelve solo el nodo inicial.\n",
    "3. Crea una copia del grafo de la ciudad y modifica los pesos de las aristas basándose en el indicador `hazard_gradient` de cada conexión.\n",
    "4. La fórmula para el nuevo peso es: `peso_original * (1 + hazard_gradient * 10)`, donde:\n",
    "   - El factor base (1) preserva el peso original\n",
    "   - El factor de multiplicación (10) amplifica la influencia del gradiente de peligro\n",
    "5. Encuentra el camino más corto hacia cada punto de extracción alcanzable usando estos nuevos pesos.\n",
    "6. Selecciona el camino con el menor costo total (menor exposición acumulada al gradiente de peligro).\n",
    "\n",
    "Para la distribución de recursos, se implementa una estrategia equitativa:\n",
    "- Los recursos disponibles se dividen en partes iguales entre los tres tipos (explosivos, munición y trajes de radiación)\n",
    "- Si hay recursos restantes que no pueden dividirse equitativamente, se asignan secuencialmente\n",
    "\n",
    "# Lógica detrás de la política\n",
    "\n",
    "Esta política representa la fase de \"Estableciendo la Red de Monitoreo\" donde:\n",
    "\n",
    "1. El `hazard_gradient` se utiliza como indicador crítico porque:\n",
    "   - Representa cambios bruscos en las condiciones ambientales\n",
    "   - Los equipos de rescate han identificado que los cambios repentinos en el entorno suelen ser más peligrosos que condiciones adversas constantes\n",
    "   - Ayuda a evitar zonas donde las condiciones pueden deteriorarse rápidamente\n",
    "\n",
    "2. A diferencia de la Política 1, esta estrategia:\n",
    "   - Incorpora información ambiental de los sensores\n",
    "   - Optimiza las rutas basándose en datos de peligro reales\n",
    "   - Mantiene la simplicidad en la distribución de recursos mientras mejora significativamente la selección de rutas\n",
    "\n",
    "Esta política logra un equilibrio entre utilizar la nueva información disponible de los sensores para elegir rutas más seguras, mientras mantiene una asignación de recursos conservadora ante la falta de datos históricos sobre el uso efectivo de cada tipo de recurso."
   ]
  },
  {
   "cell_type": "markdown",
   "metadata": {},
   "source": [
    "# Politica 3"
   ]
  },
  {
   "cell_type": "markdown",
   "metadata": {},
   "source": [
    "Esta política de evacuación (Política 3) implementa un enfoque basado en el análisis de proxies para determinar el camino más seguro hacia los puntos de extracción, con una asignación de recursos dependiente de los problemas encontrados.\n",
    "\n",
    "# Estrategia principal\n",
    "\n",
    "La política funciona de la siguiente manera:\n",
    "\n",
    "1. Se analizan los datos de los nodos y las aristas de la ciudad utilizando PCA para reducir la dimensionalidad de los proxies.\n",
    "2. Se seleccionan tres proxies representativos para cada tipo de problema (radiación, munición y explosivos).\n",
    "3. Se establecen umbrales basados en las medias de los valores de los proxies seleccionados, para determinar si un nodo o arista presenta un problema.\n",
    "4. Se construye un grafo ponderado, donde:\n",
    "   - Cada nodo recibe un peso equivalente a la cantidad de problemas detectados.\n",
    "   - Cada arista recibe un peso binario (1 si presenta algún problema, 0 si no lo presenta).\n",
    "5. Se emplea el algoritmo de Dijkstra para encontrar el camino de menor peso total hacia los puntos de extracción alcanzables.\n",
    "6. Se elige el camino con la menor exposición acumulada a problemas.\n",
    "7. Se asignan recursos según los problemas encontrados a lo largo del camino.\n",
    "\n",
    "# Cálculo de problemas\n",
    "\n",
    "Se definen umbrales de problemas basados en la media de los valores de los proxies seleccionados:\n",
    "- **Radiación**: Se asigna un problema si el valor del proxy de radiación excede su umbral.\n",
    "- **Munición**: Se asigna un problema si el valor del proxy de munición excede su umbral.\n",
    "- **Explosivos**: Se asigna un problema si el valor del proxy de explosivos excede su umbral.\n",
    "\n",
    "Cada nodo y arista se evalúa según estos criterios y se asignan pesos en consecuencia.\n",
    "\n",
    "# Asignación de recursos\n",
    "\n",
    "Los recursos disponibles se asignan según la cantidad de problemas encontrados en el mejor camino:\n",
    "- **Trajes de radiación**: Se asigna uno por cada problema de radiación identificado.\n",
    "- **Munición**: Se asigna una unidad por cada problema térmico identificado.\n",
    "- **Explosivos**: Se asigna una unidad por cada problema de bloqueo o daño estructural identificado.\n",
    "\n",
    "Si hay recursos sobrantes, se distribuyen equitativamente entre las tres categorías. Si no es divisible exactamente, se asignan en orden de prioridad.\n",
    "\n",
    "# Lógica detrás de la política\n",
    "\n",
    "Esta política mejora la selección de rutas y la asignación de recursos mediante:\n",
    "- **Uso de PCA**: Reduce la complejidad de los datos y selecciona los proxies más relevantes.\n",
    "- **Umbrales basados en medias**: Asegura una detección estadísticamente fundamentada de problemas.\n",
    "- **Optimización de caminos**: Minimiza la exposición acumulada a peligros en la ruta de evacuación.\n",
    "\n",
    "Al integrar información ambiental con técnicas de reducción de dimensionalidad, esta estrategia ofrece un equilibrio entre precisión y eficiencia en la toma de decisiones bajo condiciones de riesgo.\n",
    "\n"
   ]
  },
  {
   "cell_type": "markdown",
   "metadata": {},
   "source": []
  },
  {
   "cell_type": "markdown",
   "metadata": {},
   "source": [
    "# Politica 4"
   ]
  },
  {
   "cell_type": "markdown",
   "metadata": {},
   "source": [
    "Esta política de evacuación (Política 4) implementa una estrategia que utiliza los datos de proxies para encontrar un camino seguro hacia los puntos de extracción, enfocándose específicamente en minimizar el gradiente de peligro.\n",
    "\n",
    "# Estrategia principal\n",
    "\n",
    "La política funciona de la siguiente manera:\n",
    "\n",
    "1. Primero verifica cuáles puntos de extracción son alcanzables desde el nodo inicial.\n",
    "2. Si no se puede llegar a ningún punto de extracción, la política devuelve solo el nodo inicial.\n",
    "3. Creamos una copia del grafo de la ciudad y modificamos los pesos de las aristas basándonos en el indicador `hazard_gradient` de cada conexión.\n",
    "4. Para definir los umbrales de los problemas, utilizamos un algoritmo de Monte Carlo Tree Search para optimizar la asignación de los pesos en función del contexto de peligro.\n",
    "5. La fórmula para el nuevo peso es: `peso_original * (1 + hazard_gradient * factor_montecarlo)`, donde:\n",
    "   - El factor Monte Carlo se ajusta en función de las simulaciones realizadas para optimizar la evasión del peligro.\n",
    "6. Encontramos el camino más corto hacia cada punto de extracción alcanzable usando estos nuevos pesos.\n",
    "7. Seleccionamos el camino con el menor costo total (menor exposición acumulada al gradiente de peligro).\n",
    "\n",
    "Para la distribución de recursos, se implementa una estrategia equitativa:\n",
    "- Los recursos disponibles se dividen en partes iguales entre los tres tipos (explosivos, munición y trajes de radiación)\n",
    "- Si hay recursos restantes que no pueden dividirse equitativamente, se asignan secuencialmente\n",
    "\n",
    "# Lógica detrás de la política\n",
    "\n",
    "Esta política representa la fase de \"Estableciendo la Red de Monitoreo\" donde:\n",
    "\n",
    "1. El `hazard_gradient` se utiliza como indicador crítico porque:\n",
    "   - Representa cambios bruscos en las condiciones ambientales.\n",
    "   - Los equipos de rescate han identificado que los cambios repentinos en el entorno suelen ser más peligrosos que condiciones adversas constantes.\n",
    "   - Ayuda a evitar zonas donde las condiciones pueden deteriorarse rápidamente.\n",
    "\n",
    "2. A diferencia de la Política 3, esta estrategia:\n",
    "   - Utiliza Monte Carlo Tree Search para optimizar los umbrales de peligro.\n",
    "   - Optimiza las rutas basándose en datos de peligro simulados.\n",
    "   - Mantiene la simplicidad en la distribución de recursos mientras mejora significativamente la selección de rutas.\n",
    "\n",
    "Esta política logra un equilibrio entre utilizar la nueva información disponible de los sensores para elegir rutas más seguras, mientras mantiene una asignación de recursos conservadora ante la falta de datos históricos sobre el uso efectivo de cada tipo de recurso.\n",
    "\n"
   ]
  }
 ],
 "metadata": {
  "kernelspec": {
   "display_name": "myenv",
   "language": "python",
   "name": "python3"
  },
  "language_info": {
   "name": "python",
   "version": "3.10.14"
  }
 },
 "nbformat": 4,
 "nbformat_minor": 2
}
